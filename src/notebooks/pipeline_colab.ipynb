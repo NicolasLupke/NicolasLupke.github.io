{
  "cells": [
    {
      "cell_type": "markdown",
      "metadata": {
        "id": "iR0fiL89loDv",
        "vscode": {
          "languageId": "plaintext"
        }
      },
      "source": [
        "[![Open in Colab](https://colab.research.google.com/assets/colab-badge.svg)](https://colab.research.google.com/github/maximilian-konrad/AIA2/blob/main/src/notebooks/pipeline_colab.ipynb)"
      ]
    },
    {
      "cell_type": "markdown",
      "source": [
        "# Introduction\n",
        "\n",
        "**AIA2 (Automated Image Analysis)** is a comprehensive image analytics pipeline that extracts visual features from images using computer vision and machine learning techniques.  \n",
        "It provides both a **web interface** and a **Jupyter/Colab interface** for batch image processing.\n",
        "\n",
        "---\n",
        "\n",
        "### Using AIA2 in Google Colab\n",
        "\n",
        "This notebook will guide you through:\n",
        "\n",
        "1. Setting up the AIA2 environment.  \n",
        "2. Configuring where your images and results are stored.  \n",
        "3. Running the analysis pipeline and generating summary reports.\n",
        "\n",
        "Simply run each cell **in order** to complete your analysis.\n",
        "\n",
        "---\n",
        "\n",
        "### Using GPU Acceleration\n",
        "\n",
        "To speed up processing (especially for object detection & caption generation):\n",
        "\n",
        "1. Go to **Runtime → Change runtime type** in Colab.  \n",
        "2. Select a GPU option e.g. **T4 GPU**.\n",
        "3. Save and restart the runtime if prompted.\n",
        "\n",
        "GPU acceleration can significantly reduce analysis time."
      ],
      "metadata": {
        "id": "WGhKHYWUbBkO"
      }
    },
    {
      "cell_type": "markdown",
      "source": [
        "## 🛠 Step 1 — Install & Initialize AIA2\n",
        "\n",
        "Before we can run the analysis, we need to:\n",
        "\n",
        "1. **Download the AIA2 code base** from GitHub.\n",
        "2. **Install all required dependencies** for Google Colab.\n",
        "3. **Initialize AIA2** with the configuration file.\n",
        "\n",
        "💡 **Note:** You only need to run this step **once per session**."
      ],
      "metadata": {
        "id": "46lqpA0Be63N"
      }
    },
    {
      "cell_type": "code",
      "execution_count": null,
      "metadata": {
        "id": "pa6GLlETpsau"
      },
      "outputs": [],
      "source": [
        "# Run this cell to load the code base\n",
        "!git clone https://github.com/maximilian-konrad/AIA2.git\n",
        "!pip install -r /content/AIA2/requirementsColab.txt"
      ]
    },
    {
      "cell_type": "code",
      "execution_count": null,
      "metadata": {
        "ExecuteTime": {
          "end_time": "2025-02-04T13:28:09.039063Z",
          "start_time": "2025-02-04T13:28:08.597016Z"
        },
        "id": "uORLlEVsiTUj"
      },
      "outputs": [],
      "source": [
        "# Initialize AIA using the configuration\n",
        "import sys\n",
        "import os\n",
        "sys.path.append('..')\n",
        "import AIA2.src.AIA as AIA\n",
        "aia = AIA.AIA(config_path = \"/content/AIA2/config/configuration.yaml\")"
      ]
    },
    {
      "cell_type": "markdown",
      "source": [
        "## 📂 Step 2 — Set Your Input & Output Folders\n",
        "\n",
        "Before running the analysis, we need to tell **AIA2**:\n",
        "\n",
        "- **Where to find your images** (input directory).  \n",
        "- **Where to save results** (output directory).\n",
        "\n",
        "### Option 1 — Local Colab Storage  \n",
        "- Temporary — all files will be deleted after the session ends.\n",
        "- Upload your images to `/content/AIA2/data/`.\n",
        "\n",
        "### Option 2 — Google Drive (Recommended)  \n",
        "- Persistent — files stay after the session ends.  \n",
        "- Requires mounting Google Drive and specifying the image folder.\n"
      ],
      "metadata": {
        "id": "768dvqN-dsc1"
      }
    },
    {
      "cell_type": "code",
      "execution_count": null,
      "metadata": {
        "id": "Byj88kzbabCY"
      },
      "outputs": [],
      "source": [
        "# === Set Input & Output Directories ===\n",
        "\n",
        "USE_GOOGLE_DRIVE = False  # Change to True if you want to use Google Drive\n",
        "\n",
        "if not USE_GOOGLE_DRIVE:\n",
        "    aia.output_dir = \"/content/AIA2/output\"                               # Local Results folder\n",
        "    aia.input_dir  = \"/content/AIA2/data/test_human_20\"                   # Local Images folder\n",
        "else:\n",
        "    from google.colab import drive\n",
        "    drive.mount('/content/drive')\n",
        "\n",
        "    aia.output_dir = \"/content/drive/MyDrive/AIA2/output\"                 # Google Drive Results folder\n",
        "    aia.input_dir  = \"/content/drive/MyDrive/AIA2/data/test_human_20\"     # Google Drive Images folder\n",
        "\n",
        "# Create output directory if it doesn't exist\n",
        "import os\n",
        "os.makedirs(aia.output_dir, exist_ok=True)\n",
        "\n",
        "print(f\"✅ Output directory: {aia.output_dir}\")\n",
        "print(f\"📁 Input directory: {aia.input_dir}\")\n"
      ]
    },
    {
      "cell_type": "markdown",
      "source": [
        "## ▶️ Step 3 — Run the Analysis Pipeline\n",
        "\n",
        "Now that AIA2 is set up and your input/output folders are configured, run the pipeline to process all images in the input directory.  \n",
        "\n",
        "Results will be saved in the output directory in **CSV** and **Excel** formats.  \n",
        "\n",
        "💡 *This step may take a while depending on dataset size and whether GPU acceleration is enabled.*"
      ],
      "metadata": {
        "id": "N7Rc2IVXfxm0"
      }
    },
    {
      "cell_type": "code",
      "execution_count": null,
      "metadata": {
        "id": "6qxYUeIRD0uM"
      },
      "outputs": [],
      "source": [
        "# Run the pipeline; you will find the results in the output directory mentioned above upon completion of this cell\n",
        "results, logs = aia.process_batch()"
      ]
    },
    {
      "cell_type": "markdown",
      "source": [
        "## 📄 Step 4 (Optional) — Generate Min/Max Summary PDF\n",
        "\n",
        "Once the analysis is complete, you can create a PDF report showing:\n",
        "\n",
        "- An example image for each feature’s **lowest** value.  \n",
        "- An example image for each feature’s **highest** value.\n",
        "\n",
        "This is helpful for quickly reviewing feature extremes in your dataset."
      ],
      "metadata": {
        "id": "7ReJDhIgnUJi"
      }
    },
    {
      "cell_type": "code",
      "execution_count": null,
      "metadata": {
        "id": "BpycNhxlabCZ"
      },
      "outputs": [],
      "source": [
        "# Create a PDF file that shows an exemplary image for each feature's min and max values\n",
        "aia.create_argmin_argmax_pdf()"
      ]
    }
  ],
  "metadata": {
    "colab": {
      "provenance": []
    },
    "kernelspec": {
      "display_name": "aiaenv",
      "language": "python",
      "name": "python3"
    },
    "language_info": {
      "codemirror_mode": {
        "name": "ipython",
        "version": 3
      },
      "file_extension": ".py",
      "mimetype": "text/x-python",
      "name": "python",
      "nbconvert_exporter": "python",
      "pygments_lexer": "ipython3",
      "version": "3.12.10"
    }
  },
  "nbformat": 4,
  "nbformat_minor": 0
}